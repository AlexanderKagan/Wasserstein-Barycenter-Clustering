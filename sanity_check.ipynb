{
 "cells": [
  {
   "cell_type": "code",
   "execution_count": 1,
   "id": "868a2026",
   "metadata": {},
   "outputs": [],
   "source": [
    "import numpy as np\n",
    "from utils import DiscreteDistrib, discrete_wasserstein_distance\n",
    "from D2_clustering import D2Cluster\n",
    "from BADMM import badmm_centroid_update"
   ]
  },
  {
   "cell_type": "code",
   "execution_count": 2,
   "id": "372d645f",
   "metadata": {},
   "outputs": [],
   "source": [
    "x1 = np.array([[0, 1], [2, 3]])\n",
    "n1 = x1.shape[0]\n",
    "x2 =  np.ones((3, 2))\n",
    "n2 = x2.shape[0]\n",
    "\n",
    "w1 = np.ones(n1) / n1\n",
    "w2 = np.ones(n2) / n2"
   ]
  },
  {
   "cell_type": "code",
   "execution_count": 3,
   "id": "9d181132",
   "metadata": {},
   "outputs": [],
   "source": [
    "P1 = DiscreteDistrib(w1, x1)\n",
    "P2 = DiscreteDistrib(w2, x2)\n",
    "\n",
    "dist, pi = discrete_wasserstein_distance(P1, P2, return_coupling=True)"
   ]
  },
  {
   "cell_type": "code",
   "execution_count": 4,
   "id": "482e60dd",
   "metadata": {},
   "outputs": [
    {
     "data": {
      "text/plain": [
       "(1.272019649514065,\n",
       " array([[0.16666667, 0.16666667, 0.16666667],\n",
       "        [0.16666667, 0.16666667, 0.16666667]]))"
      ]
     },
     "execution_count": 4,
     "metadata": {},
     "output_type": "execute_result"
    }
   ],
   "source": [
    "dist, pi"
   ]
  },
  {
   "cell_type": "code",
   "execution_count": 5,
   "id": "ede74c62",
   "metadata": {},
   "outputs": [],
   "source": [
    "c0 = DiscreteDistrib(w=np.array([1/2, 1/2]), x=np.array([[0, 0], [1, 1]]))"
   ]
  },
  {
   "cell_type": "code",
   "execution_count": null,
   "id": "a8ff5523",
   "metadata": {},
   "outputs": [],
   "source": []
  },
  {
   "cell_type": "code",
   "execution_count": 6,
   "id": "3395af8d",
   "metadata": {},
   "outputs": [],
   "source": [
    "supp = np.vstack([x1, x2]).T\n",
    "stride = np.array([n1, n2])\n",
    "w = np.hstack([w1, w2])"
   ]
  },
  {
   "cell_type": "code",
   "execution_count": 7,
   "id": "a91c17a5",
   "metadata": {},
   "outputs": [],
   "source": [
    "import numpy as np\n",
    "from utils import DiscreteDistrib\n",
    "from scipy import sparse\n",
    "from scipy.spatial import distance_matrix\n",
    "\n",
    "\n",
    "def badmm_centroid_update(stride, supp, w, c0: DiscreteDistrib,\n",
    "                          rho=1e-2, nIter=10000, eps=1e-10,\n",
    "                          tau=10, badmm_tol=1e-3):\n",
    "    d = supp.shape[0]\n",
    "    n = len(stride)\n",
    "    m = len(w)\n",
    "\n",
    "    c = c0\n",
    "\n",
    "    support_size = len(c.w)\n",
    "    posvec = np.concatenate(([0], np.cumsum(stride)))\n",
    "    \n",
    "    X = np.zeros((support_size, m))\n",
    "    Y = np.zeros_like(X)\n",
    "    Z = np.zeros((support_size, np.sum(stride)))\n",
    "\n",
    "    spIDX_rows = np.zeros(support_size * m, dtype=int)\n",
    "    spIDX_cols = np.zeros_like(spIDX_rows, dtype=int)\n",
    "\n",
    "    for i in range(n):\n",
    "        xx, yy = np.meshgrid(i * support_size + np.arange(0, support_size),\n",
    "                             np.arange(posvec[i], posvec[i + 1]))\n",
    "        ii = support_size * posvec[i] + np.arange(support_size * stride[i])\n",
    "        spIDX_rows[ii] = xx.flatten()\n",
    "        spIDX_cols[ii] = yy.flatten()\n",
    "\n",
    "    spIDX = np.kron(np.eye(support_size), np.ones((1, n)))\n",
    "\n",
    "    for i in range(n):\n",
    "        Z[:, posvec[i]: posvec[i + 1]] = 1 / (support_size * stride[i])\n",
    "\n",
    "    C = distance_matrix(c.x.T, supp.T) ** 2\n",
    "    \n",
    "    for iteration in range(nIter):\n",
    "        # update X\n",
    "        X = Z * np.exp((C + Y) / (-rho)) + eps\n",
    "        X = X * (w / np.sum(X, axis=0)).T\n",
    "\n",
    "        # update Z\n",
    "        Z0 = Z\n",
    "        Z = X * np.exp(Y / rho) + eps\n",
    "#         print(spIDX_cols, spIDX_rows)\n",
    "        spZ = sparse.csr_matrix((Z.T.ravel(order='F'), (spIDX_rows, spIDX_cols)),\n",
    "                               shape=(support_size * n, m))\n",
    "        \n",
    "#         print(spZ.shape, support_size, Z.shape, spIDX_rows.shape, spIDX_cols.shape)\n",
    "        tmp = np.sum(spZ, axis=1)\n",
    "        tmp = np.reshape(tmp, (support_size, n))\n",
    "        dg = c.w / tmp\n",
    "        dg = sparse.csr_matrix((np.array(dg).flatten(),\n",
    "                                (np.arange(n * support_size), np.arange(n * support_size))))\n",
    "#         print(dg.shape, spZ.shape, spIDX.shape, X.shape)\n",
    "#         print(m)\n",
    "        Z = spIDX @ dg @spZ\n",
    "    \n",
    "        # update Y\n",
    "        Y = Y + rho * (X - Z)\n",
    "\n",
    "        # update c.w\n",
    "        tmp = tmp / np.sum(tmp, axis=0)\n",
    "#         print(np.sum(np.sqrt(tmp), axis=1))\n",
    "        sumW = np.array(np.sum(np.sqrt(tmp), axis=1)) ** 2  # (R2)\n",
    "        # sumW = np.sum(tmp, axis=1)  # (R1)\n",
    "        c.w = sumW / np.sum(sumW)\n",
    "        if iteration % tau == 0:\n",
    "            c.x = supp @ X.T / np.tile(np.sum(X, axis=1), (d, 1)).T\n",
    "            C = distance_matrix(c.x.T, supp.T) ** 2\n",
    "        if iteration % 100 == 0:\n",
    "            primres = np.linalg.norm(X - Z, 'fro') / np.linalg.norm(Z, 'fro')\n",
    "            dualres = np.linalg.norm(Z - Z0, 'fro') / np.linalg.norm(Z, 'fro')\n",
    "            cost = round(np.sum(C * X) / n, 3)\n",
    "            print(f'Iter: {iteration}, Avg cost {cost}, Primal: {round(primres, 4)}, Dual: {round(dualres, 4)}')\n",
    "            if np.sqrt(dualres * primres) < badmm_tol:\n",
    "                print(\"Early stop activated!\")\n",
    "                break\n",
    "    return c"
   ]
  },
  {
   "cell_type": "code",
   "execution_count": 8,
   "id": "f93fc92b",
   "metadata": {},
   "outputs": [
    {
     "name": "stdout",
     "output_type": "stream",
     "text": [
      "Iter: 0, Avg cost 1.25, Primal: 0.7167, Dual: 0.7167\n",
      "Iter: 100, Avg cost 1.25, Primal: 0.9341, Dual: 0.0001\n",
      "Iter: 200, Avg cost 2.141, Primal: 0.7714, Dual: 0.0\n",
      "Iter: 300, Avg cost 2.141, Primal: 0.7717, Dual: 0.0\n",
      "Iter: 400, Avg cost 2.141, Primal: 0.7719, Dual: 0.0\n",
      "Iter: 500, Avg cost 2.141, Primal: 0.7721, Dual: 0.0\n",
      "Iter: 600, Avg cost 2.141, Primal: 0.7721, Dual: 0.0\n",
      "Iter: 700, Avg cost 2.141, Primal: 0.7722, Dual: 0.0\n",
      "Iter: 800, Avg cost 2.141, Primal: 0.7722, Dual: 0.0\n",
      "Iter: 900, Avg cost 2.141, Primal: 0.7723, Dual: 0.0\n",
      "Iter: 1000, Avg cost 2.141, Primal: 0.7723, Dual: 0.0\n",
      "Early stop activated!\n"
     ]
    }
   ],
   "source": [
    "c = badmm_centroid_update(stride, supp, w, c0=c0)"
   ]
  },
  {
   "cell_type": "code",
   "execution_count": 9,
   "id": "43f83638",
   "metadata": {},
   "outputs": [
    {
     "data": {
      "text/plain": [
       "[(array([1., 2.]), array([0.00121132])), (array([0.875, 1.375]), array([0.99878868]))]"
      ]
     },
     "execution_count": 9,
     "metadata": {},
     "output_type": "execute_result"
    }
   ],
   "source": [
    "c"
   ]
  }
 ],
 "metadata": {
  "kernelspec": {
   "display_name": "brew_env",
   "language": "python",
   "name": "brew_env"
  },
  "language_info": {
   "codemirror_mode": {
    "name": "ipython",
    "version": 3
   },
   "file_extension": ".py",
   "mimetype": "text/x-python",
   "name": "python",
   "nbconvert_exporter": "python",
   "pygments_lexer": "ipython3",
   "version": "3.9.13"
  }
 },
 "nbformat": 4,
 "nbformat_minor": 5
}
