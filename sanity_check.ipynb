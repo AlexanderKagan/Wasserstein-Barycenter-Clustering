{
 "cells": [
  {
   "cell_type": "code",
   "execution_count": 1,
   "id": "868a2026",
   "metadata": {},
   "outputs": [],
   "source": [
    "import numpy as np\n",
    "from utils import DiscreteDistrib, discrete_wasserstein_distance"
   ]
  },
  {
   "cell_type": "code",
   "execution_count": 2,
   "id": "372d645f",
   "metadata": {},
   "outputs": [],
   "source": [
    "x1 = np.array([[0, 1], [2,3]])\n",
    "n1 = x1.shape[0]\n",
    "x2 =  np.ones((3, 2))\n",
    "n2 = x2.shape[0]\n",
    "\n",
    "w1 = np.ones(n1) / n1\n",
    "w2 = np.ones(n2) / n2"
   ]
  },
  {
   "cell_type": "code",
   "execution_count": 3,
   "id": "9d181132",
   "metadata": {},
   "outputs": [],
   "source": [
    "P1 = DiscreteDistrib(w1, x1)\n",
    "P2 = DiscreteDistrib(w2, x2)\n",
    "\n",
    "dist, pi = discrete_wasserstein_distance(P1, P2, return_coupling=True)"
   ]
  },
  {
   "cell_type": "code",
   "execution_count": 5,
   "id": "482e60dd",
   "metadata": {},
   "outputs": [
    {
     "data": {
      "text/plain": [
       "(1.272019649514065,\n",
       " array([[0.16666667, 0.16666667, 0.16666667],\n",
       "        [0.16666667, 0.16666667, 0.16666667]]))"
      ]
     },
     "execution_count": 5,
     "metadata": {},
     "output_type": "execute_result"
    }
   ],
   "source": [
    "dist, pi"
   ]
  }
 ],
 "metadata": {
  "kernelspec": {
   "display_name": "brew_env",
   "language": "python",
   "name": "brew_env"
  },
  "language_info": {
   "codemirror_mode": {
    "name": "ipython",
    "version": 3
   },
   "file_extension": ".py",
   "mimetype": "text/x-python",
   "name": "python",
   "nbconvert_exporter": "python",
   "pygments_lexer": "ipython3",
   "version": "3.9.13"
  }
 },
 "nbformat": 4,
 "nbformat_minor": 5
}
