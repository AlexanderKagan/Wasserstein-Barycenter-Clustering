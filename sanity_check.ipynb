{
 "cells": [
  {
   "cell_type": "code",
   "execution_count": 21,
   "id": "868a2026",
   "metadata": {},
   "outputs": [],
   "source": [
    "import numpy as np\n",
    "from utils import DiscreteDistrib, discrete_wasserstein_distance\n",
    "from D2_clustering import D2Cluster\n",
    "from BADMM import *\n",
    "from typing import List\n",
    "from clustering import clustering"
   ]
  },
  {
   "cell_type": "code",
   "execution_count": 33,
   "id": "372d645f",
   "metadata": {},
   "outputs": [],
   "source": [
    "x1 = np.array([[0, 1], [2, 3], [4,5]])\n",
    "n1 = x1.shape[0]\n",
    "x2 =  np.ones((3, 2))\n",
    "n2 = x2.shape[0]\n",
    "\n",
    "w1 = np.ones(n1) / n1\n",
    "w2 = np.ones(n2) / n2"
   ]
  },
  {
   "cell_type": "code",
   "execution_count": 34,
   "id": "9d181132",
   "metadata": {},
   "outputs": [],
   "source": [
    "P1 = DiscreteDistrib(w1, x1)\n",
    "P2 = DiscreteDistrib(w2, x2)\n",
    "Ps = [P1, P2]\n",
    "\n",
    "# dist, pi = discrete_wasserstein_distance(P1, P2, return_coupling=True)"
   ]
  },
  {
   "cell_type": "code",
   "execution_count": 35,
   "id": "9201aacf",
   "metadata": {},
   "outputs": [],
   "source": [
    "# c0 = DiscreteDistrib(w=np.array([1/2, 1/2]), x=np.array([[0, 0], [1, 1]]))"
   ]
  },
  {
   "cell_type": "code",
   "execution_count": 45,
   "id": "5f7d82ed",
   "metadata": {},
   "outputs": [],
   "source": [
    "def badmm_centroid_update(Ps: List[DiscreteDistrib], c0: DiscreteDistrib = None,\n",
    "                          rho=1e-2, nIter=10000, eps=1e-10,\n",
    "                          tau=10, badmm_tol=1e-3,\n",
    "                          verbose_interval=100):\n",
    "\n",
    "    supp, stride, w = convert_Ps_to_supp_stride_w(Ps)\n",
    "    d = supp.shape[0]\n",
    "    n = len(stride)\n",
    "    m = len(w)\n",
    "\n",
    "    c = c0 if c0 is not None else init_kmeans_center(Ps, int(np.mean(stride)))\n",
    "\n",
    "    support_size = len(c.w)\n",
    "    posvec = np.concatenate(([0], np.cumsum(stride)))\n",
    "\n",
    "    X = np.zeros((support_size, m))\n",
    "    Y = np.zeros_like(X)\n",
    "    Z = np.zeros((support_size, np.sum(stride)))\n",
    "\n",
    "    spIDX_rows = np.zeros(support_size * m, dtype=int)\n",
    "    spIDX_cols = np.zeros_like(spIDX_rows, dtype=int)\n",
    "\n",
    "    for i in range(n):\n",
    "        xx, yy = np.meshgrid(i * support_size + np.arange(0, support_size),\n",
    "                             np.arange(posvec[i], posvec[i + 1]))\n",
    "        ii = support_size * posvec[i] + np.arange(support_size * stride[i])\n",
    "        spIDX_rows[ii] = xx.flatten()\n",
    "        spIDX_cols[ii] = yy.flatten()\n",
    "\n",
    "    spIDX = np.kron(np.eye(support_size), np.ones((1, n)))\n",
    "\n",
    "    for i in range(n):\n",
    "        Z[:, posvec[i]: posvec[i + 1]] = 1 / (support_size * stride[i])\n",
    "\n",
    "    C = distance_matrix(c.x.T, supp.T) ** 2\n",
    "\n",
    "    for iteration in range(nIter):\n",
    "        # update X\n",
    "        X = Z * np.exp((C + Y) / (-rho)) + eps\n",
    "        X = X * (w / np.sum(X, axis=0)).T\n",
    "\n",
    "        # update Z\n",
    "        Z0 = Z\n",
    "        Z = X * np.exp(Y / rho) + eps\n",
    "        spZ = sparse.csr_matrix((Z.T.ravel(order='F'), (spIDX_rows, spIDX_cols)),\n",
    "                                shape=(support_size * n, m))\n",
    "\n",
    "        tmp = np.sum(spZ, axis=1)\n",
    "        tmp = np.reshape(tmp, (support_size, n))\n",
    "        print(c.w.reshape(-1, 1).shape, tmp.shape)\n",
    "        dg = c.w.reshape(-1, 1) / tmp\n",
    "        dg = sparse.csr_matrix((np.array(dg).flatten(),\n",
    "                                (np.arange(n * support_size), np.arange(n * support_size))))\n",
    "\n",
    "        Z = spIDX @ dg @ spZ\n",
    "\n",
    "        # update Y\n",
    "        Y = Y + rho * (X - Z)\n",
    "\n",
    "        # update c.w\n",
    "        tmp = tmp / np.sum(tmp, axis=0)\n",
    "        \n",
    "        sumW = np.array(np.sum(np.sqrt(tmp), axis=1)) ** 2\n",
    "\n",
    "        c.w = sumW / np.sum(sumW)\n",
    "        if iteration % tau == 0:\n",
    "            print(c.x.shape)\n",
    "            c.x = supp @ X.T / np.tile(np.sum(X, axis=1), (d, 1)).T\n",
    "            C = distance_matrix(c.x.T, supp.T) ** 2\n",
    "        if iteration % verbose_interval == 0:\n",
    "            primres = np.linalg.norm(X - Z, 'fro') / np.linalg.norm(Z, 'fro')\n",
    "            dualres = np.linalg.norm(Z - Z0, 'fro') / np.linalg.norm(Z, 'fro')\n",
    "            cost = round(np.sum(C * X) / n, 3)\n",
    "            print(f'Iter: {iteration}, Avg cost {cost}, Primal: {round(primres, 4)}, Dual: {round(dualres, 4)}')\n",
    "            if np.sqrt(dualres * primres) < badmm_tol:\n",
    "                print(\"Early stop activated!\")\n",
    "                break\n",
    "    return c"
   ]
  },
  {
   "cell_type": "code",
   "execution_count": 46,
   "id": "ff0d92b9",
   "metadata": {},
   "outputs": [
    {
     "name": "stdout",
     "output_type": "stream",
     "text": [
      "(3, 1) (3, 2)\n",
      "(2, 3)\n"
     ]
    },
    {
     "ename": "ValueError",
     "evalue": "operands could not be broadcast together with shapes (2,3) (3,2) ",
     "output_type": "error",
     "traceback": [
      "\u001b[0;31m---------------------------------------------------------------------------\u001b[0m",
      "\u001b[0;31mValueError\u001b[0m                                Traceback (most recent call last)",
      "Input \u001b[0;32mIn [46]\u001b[0m, in \u001b[0;36m<cell line: 1>\u001b[0;34m()\u001b[0m\n\u001b[0;32m----> 1\u001b[0m c \u001b[38;5;241m=\u001b[39m \u001b[43mbadmm_centroid_update\u001b[49m\u001b[43m(\u001b[49m\u001b[43mPs\u001b[49m\u001b[43m,\u001b[49m\u001b[43m \u001b[49m\u001b[43mverbose_interval\u001b[49m\u001b[38;5;241;43m=\u001b[39;49m\u001b[38;5;241;43m100\u001b[39;49m\u001b[43m,\u001b[49m\u001b[43m \u001b[49m\u001b[43mrho\u001b[49m\u001b[38;5;241;43m=\u001b[39;49m\u001b[38;5;241;43m0.01\u001b[39;49m\u001b[43m)\u001b[49m\n",
      "Input \u001b[0;32mIn [45]\u001b[0m, in \u001b[0;36mbadmm_centroid_update\u001b[0;34m(Ps, c0, rho, nIter, eps, tau, badmm_tol, verbose_interval)\u001b[0m\n\u001b[1;32m     66\u001b[0m \u001b[38;5;28;01mif\u001b[39;00m iteration \u001b[38;5;241m%\u001b[39m tau \u001b[38;5;241m==\u001b[39m \u001b[38;5;241m0\u001b[39m:\n\u001b[1;32m     67\u001b[0m     \u001b[38;5;28mprint\u001b[39m(c\u001b[38;5;241m.\u001b[39mx\u001b[38;5;241m.\u001b[39mshape)\n\u001b[0;32m---> 68\u001b[0m     c\u001b[38;5;241m.\u001b[39mx \u001b[38;5;241m=\u001b[39m \u001b[43msupp\u001b[49m\u001b[43m \u001b[49m\u001b[38;5;241;43m@\u001b[39;49m\u001b[43m \u001b[49m\u001b[43mX\u001b[49m\u001b[38;5;241;43m.\u001b[39;49m\u001b[43mT\u001b[49m\u001b[43m \u001b[49m\u001b[38;5;241;43m/\u001b[39;49m\u001b[43m \u001b[49m\u001b[43mnp\u001b[49m\u001b[38;5;241;43m.\u001b[39;49m\u001b[43mtile\u001b[49m\u001b[43m(\u001b[49m\u001b[43mnp\u001b[49m\u001b[38;5;241;43m.\u001b[39;49m\u001b[43msum\u001b[49m\u001b[43m(\u001b[49m\u001b[43mX\u001b[49m\u001b[43m,\u001b[49m\u001b[43m \u001b[49m\u001b[43maxis\u001b[49m\u001b[38;5;241;43m=\u001b[39;49m\u001b[38;5;241;43m1\u001b[39;49m\u001b[43m)\u001b[49m\u001b[43m,\u001b[49m\u001b[43m \u001b[49m\u001b[43m(\u001b[49m\u001b[43md\u001b[49m\u001b[43m,\u001b[49m\u001b[43m \u001b[49m\u001b[38;5;241;43m1\u001b[39;49m\u001b[43m)\u001b[49m\u001b[43m)\u001b[49m\u001b[38;5;241;43m.\u001b[39;49m\u001b[43mT\u001b[49m\n\u001b[1;32m     69\u001b[0m     C \u001b[38;5;241m=\u001b[39m distance_matrix(c\u001b[38;5;241m.\u001b[39mx\u001b[38;5;241m.\u001b[39mT, supp\u001b[38;5;241m.\u001b[39mT) \u001b[38;5;241m*\u001b[39m\u001b[38;5;241m*\u001b[39m \u001b[38;5;241m2\u001b[39m\n\u001b[1;32m     70\u001b[0m \u001b[38;5;28;01mif\u001b[39;00m iteration \u001b[38;5;241m%\u001b[39m verbose_interval \u001b[38;5;241m==\u001b[39m \u001b[38;5;241m0\u001b[39m:\n",
      "\u001b[0;31mValueError\u001b[0m: operands could not be broadcast together with shapes (2,3) (3,2) "
     ]
    }
   ],
   "source": [
    "c = badmm_centroid_update(Ps, verbose_interval=100, rho=0.01)"
   ]
  },
  {
   "cell_type": "code",
   "execution_count": 42,
   "id": "9b485eda",
   "metadata": {},
   "outputs": [
    {
     "data": {
      "text/plain": [
       "[(array([1., 2.]), array([0.02588008])), (array([0.875, 1.375]), array([0.97411992]))]"
      ]
     },
     "execution_count": 42,
     "metadata": {},
     "output_type": "execute_result"
    }
   ],
   "source": [
    "c"
   ]
  },
  {
   "cell_type": "code",
   "execution_count": null,
   "id": "40afba65",
   "metadata": {},
   "outputs": [],
   "source": []
  }
 ],
 "metadata": {
  "kernelspec": {
   "display_name": "brew_env",
   "language": "python",
   "name": "brew_env"
  },
  "language_info": {
   "codemirror_mode": {
    "name": "ipython",
    "version": 3
   },
   "file_extension": ".py",
   "mimetype": "text/x-python",
   "name": "python",
   "nbconvert_exporter": "python",
   "pygments_lexer": "ipython3",
   "version": "3.9.13"
  }
 },
 "nbformat": 4,
 "nbformat_minor": 5
}
