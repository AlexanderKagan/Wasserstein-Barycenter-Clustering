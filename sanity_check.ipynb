{
 "cells": [
  {
   "cell_type": "code",
   "execution_count": 4,
   "id": "868a2026",
   "metadata": {},
   "outputs": [],
   "source": [
    "import numpy as np\n",
    "from utils import DiscreteDistrib, discrete_wasserstein_distance\n",
    "from D2_clustering import D2Cluster\n",
    "from BADMM import badmm_centroid_update\n",
    "from typing import List\n",
    "from clustering import clustering"
   ]
  },
  {
   "cell_type": "code",
   "execution_count": 5,
   "id": "372d645f",
   "metadata": {},
   "outputs": [],
   "source": [
    "x1 = np.array([[0, 1], [2, 3]])\n",
    "n1 = x1.shape[0]\n",
    "x2 =  np.ones((3, 2))\n",
    "n2 = x2.shape[0]\n",
    "\n",
    "w1 = np.ones(n1) / n1\n",
    "w2 = np.ones(n2) / n2"
   ]
  },
  {
   "cell_type": "code",
   "execution_count": 6,
   "id": "9d181132",
   "metadata": {},
   "outputs": [],
   "source": [
    "P1 = DiscreteDistrib(w1, x1)\n",
    "P2 = DiscreteDistrib(w2, x2)\n",
    "Ps = [P1, P2]\n",
    "\n",
    "dist, pi = discrete_wasserstein_distance(P1, P2, return_coupling=True)"
   ]
  },
  {
   "cell_type": "code",
   "execution_count": 7,
   "id": "482e60dd",
   "metadata": {},
   "outputs": [
    {
     "data": {
      "text/plain": [
       "(1.272019649514065,\n",
       " array([[0.16666667, 0.16666667, 0.16666667],\n",
       "        [0.16666667, 0.16666667, 0.16666667]]))"
      ]
     },
     "execution_count": 7,
     "metadata": {},
     "output_type": "execute_result"
    }
   ],
   "source": [
    "dist, pi"
   ]
  },
  {
   "cell_type": "code",
   "execution_count": 8,
   "id": "342abcd3",
   "metadata": {},
   "outputs": [],
   "source": [
    "# c0 = DiscreteDistrib(w=np.array([1/2, 1/2]), x=np.array([[0, 0], [1, 1]]))"
   ]
  },
  {
   "cell_type": "code",
   "execution_count": 12,
   "id": "967f95da",
   "metadata": {},
   "outputs": [
    {
     "name": "stdout",
     "output_type": "stream",
     "text": [
      "Iter: 0, Avg cost 1.151, Primal: 1.2164, Dual: 0.7717\n",
      "Iter: 100, Avg cost 2.141, Primal: 0.7705, Dual: 0.0001\n",
      "Iter: 200, Avg cost 2.141, Primal: 0.7715, Dual: 0.0\n",
      "Iter: 300, Avg cost 2.141, Primal: 0.7719, Dual: 0.0\n",
      "Iter: 400, Avg cost 2.141, Primal: 0.7721, Dual: 0.0\n",
      "Iter: 500, Avg cost 2.141, Primal: 0.7722, Dual: 0.0\n",
      "Iter: 600, Avg cost 2.141, Primal: 0.7723, Dual: 0.0\n",
      "Iter: 700, Avg cost 2.141, Primal: 0.7723, Dual: 0.0\n",
      "Iter: 800, Avg cost 2.141, Primal: 0.7724, Dual: 0.0\n",
      "Iter: 900, Avg cost 2.141, Primal: 0.7724, Dual: 0.0\n",
      "Early stop activated!\n"
     ]
    }
   ],
   "source": [
    "c = badmm_centroid_update(Ps, verbose_interval=100, rho=0.01)"
   ]
  },
  {
   "cell_type": "code",
   "execution_count": 9,
   "id": "74d18d91",
   "metadata": {},
   "outputs": [
    {
     "data": {
      "text/plain": [
       "[(array([1., 2.]), array([0.00121132])), (array([0.875, 1.375]), array([0.99878868]))]"
      ]
     },
     "execution_count": 9,
     "metadata": {},
     "output_type": "execute_result"
    }
   ],
   "source": [
    "c"
   ]
  },
  {
   "cell_type": "code",
   "execution_count": null,
   "id": "3ae78337",
   "metadata": {},
   "outputs": [],
   "source": [
    "clustering(Ps,)"
   ]
  }
 ],
 "metadata": {
  "kernelspec": {
   "display_name": "brew_env",
   "language": "python",
   "name": "brew_env"
  },
  "language_info": {
   "codemirror_mode": {
    "name": "ipython",
    "version": 3
   },
   "file_extension": ".py",
   "mimetype": "text/x-python",
   "name": "python",
   "nbconvert_exporter": "python",
   "pygments_lexer": "ipython3",
   "version": "3.9.13"
  }
 },
 "nbformat": 4,
 "nbformat_minor": 5
}
