{
 "cells": [
  {
   "cell_type": "code",
   "execution_count": 1,
   "id": "868a2026",
   "metadata": {},
   "outputs": [],
   "source": [
    "import numpy as np\n",
    "from utils import DiscreteDistrib, discrete_wasserstein_distance\n",
    "from D2_clustering import D2Cluster\n",
    "from BADMM import *\n",
    "from typing import List\n",
    "from clustering import clustering"
   ]
  },
  {
   "cell_type": "code",
   "execution_count": 18,
   "id": "372d645f",
   "metadata": {},
   "outputs": [],
   "source": [
    "x1 = np.array([[0, 1], [2, 3], [4,5]])\n",
    "n1 = x1.shape[0]\n",
    "x2 =  np.ones((4, 2))\n",
    "n2 = x2.shape[0]\n",
    "\n",
    "w1 = np.ones(n1) / n1\n",
    "w2 = np.ones(n2) / n2"
   ]
  },
  {
   "cell_type": "code",
   "execution_count": 19,
   "id": "9d181132",
   "metadata": {},
   "outputs": [],
   "source": [
    "P1 = DiscreteDistrib(w1, x1)\n",
    "P2 = DiscreteDistrib(w2, x2)\n",
    "Ps = [P1, P2]\n"
   ]
  },
  {
   "cell_type": "code",
   "execution_count": 20,
   "id": "9201aacf",
   "metadata": {},
   "outputs": [],
   "source": [
    "# c0 = DiscreteDistrib(w=np.array([1/2, 1/2]), x=np.array([[0, 0], [1, 1]]))"
   ]
  },
  {
   "cell_type": "code",
   "execution_count": 21,
   "id": "ff0d92b9",
   "metadata": {},
   "outputs": [
    {
     "name": "stdout",
     "output_type": "stream",
     "text": [
      "Iter: 0, Avg cost 1.717, Primal: 0.8684, Dual: 0.912\n",
      "Iter: 100, Avg cost 3.917, Primal: 0.9197, Dual: 0.0051\n",
      "Iter: 200, Avg cost 3.778, Primal: 0.7607, Dual: 0.002\n",
      "Iter: 300, Avg cost 3.778, Primal: 0.7687, Dual: 0.0001\n",
      "Iter: 400, Avg cost 3.778, Primal: 0.7691, Dual: 0.0\n",
      "Iter: 500, Avg cost 3.778, Primal: 0.7692, Dual: 0.0\n",
      "Early stop activated!\n"
     ]
    }
   ],
   "source": [
    "c = badmm_centroid_update(Ps, verbose_interval=100, rho=0.01)"
   ]
  },
  {
   "cell_type": "code",
   "execution_count": 42,
   "id": "9b485eda",
   "metadata": {},
   "outputs": [
    {
     "data": {
      "text/plain": [
       "[(array([1., 2.]), array([0.02588008])), (array([0.875, 1.375]), array([0.97411992]))]"
      ]
     },
     "execution_count": 42,
     "metadata": {},
     "output_type": "execute_result"
    }
   ],
   "source": [
    "c"
   ]
  }
 ],
 "metadata": {
  "kernelspec": {
   "display_name": "brew_env",
   "language": "python",
   "name": "brew_env"
  },
  "language_info": {
   "codemirror_mode": {
    "name": "ipython",
    "version": 3
   },
   "file_extension": ".py",
   "mimetype": "text/x-python",
   "name": "python",
   "nbconvert_exporter": "python",
   "pygments_lexer": "ipython3",
   "version": "3.9.13"
  }
 },
 "nbformat": 4,
 "nbformat_minor": 5
}
