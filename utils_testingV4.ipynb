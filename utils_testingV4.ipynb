{
 "cells": [
  {
   "cell_type": "code",
   "execution_count": 1,
   "metadata": {
    "executionInfo": {
     "elapsed": 1219,
     "status": "ok",
     "timestamp": 1679181305529,
     "user": {
      "displayName": "MyungJin Lee",
      "userId": "12979225653090881786"
     },
     "user_tz": 240
    },
    "id": "O7U-znj1kwD2"
   },
   "outputs": [],
   "source": [
    "import numpy as np\n",
    "import cvxpy as cp\n",
    "from typing import List\n",
    "from scipy.spatial import distance_matrix\n",
    "import scipy.stats as ss\n",
    "#import ot ## should we use the POT module or use what we wrote\n",
    "import matplotlib.pyplot as plt\n",
    "\n",
    "import utilsV2"
   ]
  },
  {
   "cell_type": "code",
   "execution_count": 93,
   "metadata": {
    "executionInfo": {
     "elapsed": 72,
     "status": "ok",
     "timestamp": 1679181317185,
     "user": {
      "displayName": "MyungJin Lee",
      "userId": "12979225653090881786"
     },
     "user_tz": 240
    },
    "id": "6JrUoICQk5xn"
   },
   "outputs": [],
   "source": [
    "# 1D Gaussian toy example\n",
    "\n",
    "def disc_gauss_generator(n, mean, std):\n",
    "\n",
    "    cont_normal = np.random.normal(mean, scale=std, size = n)\n",
    "    count, bin_edges= np.histogram(cont_normal, bins = n)\n",
    "    bins = (bin_edges[1:] + bin_edges[:-1]) / 2\n",
    "    prob = count / count.sum() #normalize\n",
    "    prob = np.reshape(prob, (n,))\n",
    "    bins = np.reshape(bins, (n,1)) # disc_wass_dist requires a second dimension\n",
    "\n",
    "    dist = DiscreteDistrib(prob, bins)\n",
    "\n",
    "    return(dist)"
   ]
  },
  {
   "cell_type": "code",
   "execution_count": 154,
   "metadata": {
    "executionInfo": {
     "elapsed": 96,
     "status": "ok",
     "timestamp": 1679181319966,
     "user": {
      "displayName": "MyungJin Lee",
      "userId": "12979225653090881786"
     },
     "user_tz": 240
    },
    "id": "FHITwAnEynU-"
   },
   "outputs": [],
   "source": [
    "nsamples = 20\n",
    "\n",
    "P1 = disc_gauss_generator(nsamples, 30, 3)\n",
    "P2 = disc_gauss_generator(nsamples, 50, 3)\n",
    "P3 = disc_gauss_generator(nsamples, 100, 3)"
   ]
  },
  {
   "cell_type": "markdown",
   "metadata": {},
   "source": [
    "## Test `_find_centroid`"
   ]
  },
  {
   "cell_type": "code",
   "execution_count": 89,
   "metadata": {
    "executionInfo": {
     "elapsed": 79,
     "status": "ok",
     "timestamp": 1679181428336,
     "user": {
      "displayName": "MyungJin Lee",
      "userId": "12979225653090881786"
     },
     "user_tz": 240
    },
    "id": "7gX5OQjqk57f"
   },
   "outputs": [],
   "source": [
    "TEST = D2Cluster(K = 2, m = nsamples)\n",
    "TEST.fit(Ps = [P1,P2,P3])"
   ]
  },
  {
   "cell_type": "code",
   "execution_count": 158,
   "metadata": {
    "executionInfo": {
     "elapsed": 68,
     "status": "ok",
     "timestamp": 1679181335019,
     "user": {
      "displayName": "MyungJin Lee",
      "userId": "12979225653090881786"
     },
     "user_tz": 240
    },
    "id": "5rFcqLsemzhM"
   },
   "outputs": [],
   "source": [
    "# initialize centroid\n",
    "init_centroid = np.reshape(np.array([10]*nsamples), (1,nsamples))\n",
    "p_indices = np.array([1]*nsamples + [2]*nsamples + [3]*nsamples)"
   ]
  },
  {
   "cell_type": "code",
   "execution_count": 92,
   "metadata": {
    "scrolled": true
   },
   "outputs": [
    {
     "name": "stdout",
     "output_type": "stream",
     "text": [
      "===============================================================================\n",
      "                                     CVXPY                                     \n",
      "                                     v1.2.1                                    \n",
      "===============================================================================\n",
      "(CVXPY) Mar 21 01:41:46 AM: Your problem has 30100 variables, 10 constraints, and 0 parameters.\n",
      "(CVXPY) Mar 21 01:41:46 AM: It is compliant with the following grammars: DCP, DQCP\n",
      "(CVXPY) Mar 21 01:41:46 AM: (If you need to solve this problem multiple times, but with different data, consider using parameters.)\n",
      "(CVXPY) Mar 21 01:41:46 AM: CVXPY will first compile your problem; then, it will invoke a numerical solver to obtain a solution.\n",
      "-------------------------------------------------------------------------------\n",
      "                                  Compilation                                  \n",
      "-------------------------------------------------------------------------------\n",
      "(CVXPY) Mar 21 01:41:46 AM: Compiling problem (target solver=ECOS).\n",
      "(CVXPY) Mar 21 01:41:46 AM: Reduction chain: Dcp2Cone -> CvxAttr2Constr -> ConeMatrixStuffing -> ECOS\n",
      "(CVXPY) Mar 21 01:41:46 AM: Applying reduction Dcp2Cone\n",
      "(CVXPY) Mar 21 01:41:46 AM: Applying reduction CvxAttr2Constr\n",
      "(CVXPY) Mar 21 01:41:46 AM: Applying reduction ConeMatrixStuffing\n",
      "(CVXPY) Mar 21 01:41:46 AM: Applying reduction ECOS\n",
      "(CVXPY) Mar 21 01:41:46 AM: Finished problem compilation (took 1.723e-01 seconds).\n",
      "-------------------------------------------------------------------------------\n",
      "                                Numerical solver                               \n",
      "-------------------------------------------------------------------------------\n",
      "(CVXPY) Mar 21 01:41:46 AM: Invoking solver ECOS  to obtain a solution.\n",
      "-------------------------------------------------------------------------------\n",
      "                                    Summary                                    \n",
      "-------------------------------------------------------------------------------\n",
      "(CVXPY) Mar 21 01:41:46 AM: Problem status: optimal\n",
      "(CVXPY) Mar 21 01:41:46 AM: Optimal value: 1.270e+02\n",
      "(CVXPY) Mar 21 01:41:46 AM: Compilation took 1.723e-01 seconds\n",
      "(CVXPY) Mar 21 01:41:46 AM: Solver (including time spent in interface) took 2.153e-01 seconds\n",
      "===============================================================================\n",
      "                                     CVXPY                                     \n",
      "                                     v1.2.1                                    \n",
      "===============================================================================\n",
      "(CVXPY) Mar 21 01:41:46 AM: Your problem has 30100 variables, 10 constraints, and 0 parameters.\n",
      "(CVXPY) Mar 21 01:41:46 AM: It is compliant with the following grammars: DCP, DQCP\n",
      "(CVXPY) Mar 21 01:41:46 AM: (If you need to solve this problem multiple times, but with different data, consider using parameters.)\n",
      "(CVXPY) Mar 21 01:41:46 AM: CVXPY will first compile your problem; then, it will invoke a numerical solver to obtain a solution.\n",
      "-------------------------------------------------------------------------------\n",
      "                                  Compilation                                  \n",
      "-------------------------------------------------------------------------------\n",
      "(CVXPY) Mar 21 01:41:46 AM: Compiling problem (target solver=ECOS).\n",
      "(CVXPY) Mar 21 01:41:46 AM: Reduction chain: Dcp2Cone -> CvxAttr2Constr -> ConeMatrixStuffing -> ECOS\n",
      "(CVXPY) Mar 21 01:41:46 AM: Applying reduction Dcp2Cone\n",
      "(CVXPY) Mar 21 01:41:46 AM: Applying reduction CvxAttr2Constr\n",
      "(CVXPY) Mar 21 01:41:46 AM: Applying reduction ConeMatrixStuffing\n",
      "(CVXPY) Mar 21 01:41:46 AM: Applying reduction ECOS\n",
      "(CVXPY) Mar 21 01:41:46 AM: Finished problem compilation (took 2.436e-01 seconds).\n",
      "-------------------------------------------------------------------------------\n",
      "                                Numerical solver                               \n",
      "-------------------------------------------------------------------------------\n",
      "(CVXPY) Mar 21 01:41:46 AM: Invoking solver ECOS  to obtain a solution.\n"
     ]
    },
    {
     "ename": "SolverError",
     "evalue": "Solver 'ECOS' failed. Try another solver, or solve with verbose=True for more information.",
     "output_type": "error",
     "traceback": [
      "\u001B[0;31m---------------------------------------------------------------------------\u001B[0m",
      "\u001B[0;31mSolverError\u001B[0m                               Traceback (most recent call last)",
      "\u001B[0;32m/var/folders/7n/hmv4m81x237fw3cqn5wxdsy80000gn/T/ipykernel_61343/2497260337.py\u001B[0m in \u001B[0;36m<module>\u001B[0;34m\u001B[0m\n\u001B[0;32m----> 1\u001B[0;31m \u001B[0mopt_x\u001B[0m \u001B[0;34m=\u001B[0m \u001B[0mTEST\u001B[0m\u001B[0;34m.\u001B[0m\u001B[0m_find_centroid\u001B[0m\u001B[0;34m(\u001B[0m\u001B[0mp_indices\u001B[0m\u001B[0;34m,\u001B[0m \u001B[0minit_centroid\u001B[0m\u001B[0;34m)\u001B[0m\u001B[0;34m\u001B[0m\u001B[0;34m\u001B[0m\u001B[0m\n\u001B[0m\u001B[1;32m      2\u001B[0m \u001B[0;31m#opt_w, b = TEST._solve_full_batch_lp(p_indices, init_centroid)\u001B[0m\u001B[0;34m\u001B[0m\u001B[0;34m\u001B[0m\u001B[0;34m\u001B[0m\u001B[0m\n\u001B[1;32m      3\u001B[0m \u001B[0;31m#opt_dist = DiscreteDistrib(opt_w, opt_x)\u001B[0m\u001B[0;34m\u001B[0m\u001B[0;34m\u001B[0m\u001B[0;34m\u001B[0m\u001B[0m\n",
      "\u001B[0;32m/var/folders/7n/hmv4m81x237fw3cqn5wxdsy80000gn/T/ipykernel_61343/2954683854.py\u001B[0m in \u001B[0;36m_find_centroid\u001B[0;34m(self, P_index, x_init, tol)\u001B[0m\n\u001B[1;32m     78\u001B[0m         \u001B[0;32mwhile\u001B[0m \u001B[0mnorm_change\u001B[0m \u001B[0;34m>\u001B[0m \u001B[0mtol\u001B[0m\u001B[0;34m:\u001B[0m\u001B[0;34m\u001B[0m\u001B[0;34m\u001B[0m\u001B[0m\n\u001B[1;32m     79\u001B[0m \u001B[0;34m\u001B[0m\u001B[0m\n\u001B[0;32m---> 80\u001B[0;31m             \u001B[0mw\u001B[0m\u001B[0;34m,\u001B[0m \u001B[0mpi\u001B[0m \u001B[0;34m=\u001B[0m \u001B[0mself\u001B[0m\u001B[0;34m.\u001B[0m\u001B[0m_solve_full_batch_lp\u001B[0m\u001B[0;34m(\u001B[0m\u001B[0mP_index\u001B[0m\u001B[0;34m,\u001B[0m \u001B[0mx\u001B[0m\u001B[0;34m)\u001B[0m\u001B[0;34m\u001B[0m\u001B[0;34m\u001B[0m\u001B[0m\n\u001B[0m\u001B[1;32m     81\u001B[0m             \u001B[0mx_new\u001B[0m \u001B[0;34m=\u001B[0m \u001B[0mself\u001B[0m\u001B[0;34m.\u001B[0m\u001B[0m_find_optimum_support_points\u001B[0m\u001B[0;34m(\u001B[0m\u001B[0mw\u001B[0m\u001B[0;34m,\u001B[0m \u001B[0mpi\u001B[0m\u001B[0;34m)\u001B[0m\u001B[0;34m\u001B[0m\u001B[0;34m\u001B[0m\u001B[0m\n\u001B[1;32m     82\u001B[0m             \u001B[0mnorm_change\u001B[0m \u001B[0;34m=\u001B[0m \u001B[0mnp\u001B[0m\u001B[0;34m.\u001B[0m\u001B[0mlinalg\u001B[0m\u001B[0;34m.\u001B[0m\u001B[0mnorm\u001B[0m\u001B[0;34m(\u001B[0m\u001B[0mx\u001B[0m \u001B[0;34m-\u001B[0m \u001B[0mx_new\u001B[0m\u001B[0;34m)\u001B[0m\u001B[0;34m\u001B[0m\u001B[0;34m\u001B[0m\u001B[0m\n",
      "\u001B[0;32m/var/folders/7n/hmv4m81x237fw3cqn5wxdsy80000gn/T/ipykernel_61343/2954683854.py\u001B[0m in \u001B[0;36m_solve_full_batch_lp\u001B[0;34m(self, P_index, x)\u001B[0m\n\u001B[1;32m     63\u001B[0m         )\n\u001B[1;32m     64\u001B[0m         \u001B[0mprob\u001B[0m \u001B[0;34m=\u001B[0m \u001B[0mcp\u001B[0m\u001B[0;34m.\u001B[0m\u001B[0mProblem\u001B[0m\u001B[0;34m(\u001B[0m\u001B[0mobjective\u001B[0m\u001B[0;34m,\u001B[0m \u001B[0mconstraints\u001B[0m\u001B[0;34m)\u001B[0m\u001B[0;34m\u001B[0m\u001B[0;34m\u001B[0m\u001B[0m\n\u001B[0;32m---> 65\u001B[0;31m         \u001B[0m_\u001B[0m \u001B[0;34m=\u001B[0m \u001B[0mprob\u001B[0m\u001B[0;34m.\u001B[0m\u001B[0msolve\u001B[0m\u001B[0;34m(\u001B[0m\u001B[0mverbose\u001B[0m \u001B[0;34m=\u001B[0m \u001B[0;32mTrue\u001B[0m\u001B[0;34m)\u001B[0m\u001B[0;34m\u001B[0m\u001B[0;34m\u001B[0m\u001B[0m\n\u001B[0m\u001B[1;32m     66\u001B[0m \u001B[0;34m\u001B[0m\u001B[0m\n\u001B[1;32m     67\u001B[0m         \u001B[0;32mreturn\u001B[0m \u001B[0mw\u001B[0m\u001B[0;34m.\u001B[0m\u001B[0mvalue\u001B[0m\u001B[0;34m,\u001B[0m \u001B[0mpi\u001B[0m\u001B[0;34m.\u001B[0m\u001B[0mvalue\u001B[0m\u001B[0;34m\u001B[0m\u001B[0;34m\u001B[0m\u001B[0m\n",
      "\u001B[0;32m~/miniforge3/lib/python3.9/site-packages/cvxpy/problems/problem.py\u001B[0m in \u001B[0;36msolve\u001B[0;34m(self, *args, **kwargs)\u001B[0m\n\u001B[1;32m    479\u001B[0m         \u001B[0;32melse\u001B[0m\u001B[0;34m:\u001B[0m\u001B[0;34m\u001B[0m\u001B[0;34m\u001B[0m\u001B[0m\n\u001B[1;32m    480\u001B[0m             \u001B[0msolve_func\u001B[0m \u001B[0;34m=\u001B[0m \u001B[0mProblem\u001B[0m\u001B[0;34m.\u001B[0m\u001B[0m_solve\u001B[0m\u001B[0;34m\u001B[0m\u001B[0;34m\u001B[0m\u001B[0m\n\u001B[0;32m--> 481\u001B[0;31m         \u001B[0;32mreturn\u001B[0m \u001B[0msolve_func\u001B[0m\u001B[0;34m(\u001B[0m\u001B[0mself\u001B[0m\u001B[0;34m,\u001B[0m \u001B[0;34m*\u001B[0m\u001B[0margs\u001B[0m\u001B[0;34m,\u001B[0m \u001B[0;34m**\u001B[0m\u001B[0mkwargs\u001B[0m\u001B[0;34m)\u001B[0m\u001B[0;34m\u001B[0m\u001B[0;34m\u001B[0m\u001B[0m\n\u001B[0m\u001B[1;32m    482\u001B[0m \u001B[0;34m\u001B[0m\u001B[0m\n\u001B[1;32m    483\u001B[0m     \u001B[0;34m@\u001B[0m\u001B[0mclassmethod\u001B[0m\u001B[0;34m\u001B[0m\u001B[0;34m\u001B[0m\u001B[0m\n",
      "\u001B[0;32m~/miniforge3/lib/python3.9/site-packages/cvxpy/problems/problem.py\u001B[0m in \u001B[0;36m_solve\u001B[0;34m(self, solver, warm_start, verbose, gp, qcp, requires_grad, enforce_dpp, ignore_dpp, **kwargs)\u001B[0m\n\u001B[1;32m   1018\u001B[0m         \u001B[0mend\u001B[0m \u001B[0;34m=\u001B[0m \u001B[0mtime\u001B[0m\u001B[0;34m.\u001B[0m\u001B[0mtime\u001B[0m\u001B[0;34m(\u001B[0m\u001B[0;34m)\u001B[0m\u001B[0;34m\u001B[0m\u001B[0;34m\u001B[0m\u001B[0m\n\u001B[1;32m   1019\u001B[0m         \u001B[0mself\u001B[0m\u001B[0;34m.\u001B[0m\u001B[0m_solve_time\u001B[0m \u001B[0;34m=\u001B[0m \u001B[0mend\u001B[0m \u001B[0;34m-\u001B[0m \u001B[0mstart\u001B[0m\u001B[0;34m\u001B[0m\u001B[0;34m\u001B[0m\u001B[0m\n\u001B[0;32m-> 1020\u001B[0;31m         \u001B[0mself\u001B[0m\u001B[0;34m.\u001B[0m\u001B[0munpack_results\u001B[0m\u001B[0;34m(\u001B[0m\u001B[0msolution\u001B[0m\u001B[0;34m,\u001B[0m \u001B[0msolving_chain\u001B[0m\u001B[0;34m,\u001B[0m \u001B[0minverse_data\u001B[0m\u001B[0;34m)\u001B[0m\u001B[0;34m\u001B[0m\u001B[0;34m\u001B[0m\u001B[0m\n\u001B[0m\u001B[1;32m   1021\u001B[0m         \u001B[0;32mif\u001B[0m \u001B[0mverbose\u001B[0m\u001B[0;34m:\u001B[0m\u001B[0;34m\u001B[0m\u001B[0;34m\u001B[0m\u001B[0m\n\u001B[1;32m   1022\u001B[0m             \u001B[0mprint\u001B[0m\u001B[0;34m(\u001B[0m\u001B[0m_FOOTER\u001B[0m\u001B[0;34m)\u001B[0m\u001B[0;34m\u001B[0m\u001B[0;34m\u001B[0m\u001B[0m\n",
      "\u001B[0;32m~/miniforge3/lib/python3.9/site-packages/cvxpy/problems/problem.py\u001B[0m in \u001B[0;36munpack_results\u001B[0;34m(self, solution, chain, inverse_data)\u001B[0m\n\u001B[1;32m   1343\u001B[0m             \u001B[0mwarnings\u001B[0m\u001B[0;34m.\u001B[0m\u001B[0mwarn\u001B[0m\u001B[0;34m(\u001B[0m\u001B[0mINF_OR_UNB_MESSAGE\u001B[0m\u001B[0;34m)\u001B[0m\u001B[0;34m\u001B[0m\u001B[0;34m\u001B[0m\u001B[0m\n\u001B[1;32m   1344\u001B[0m         \u001B[0;32mif\u001B[0m \u001B[0msolution\u001B[0m\u001B[0;34m.\u001B[0m\u001B[0mstatus\u001B[0m \u001B[0;32min\u001B[0m \u001B[0ms\u001B[0m\u001B[0;34m.\u001B[0m\u001B[0mERROR\u001B[0m\u001B[0;34m:\u001B[0m\u001B[0;34m\u001B[0m\u001B[0;34m\u001B[0m\u001B[0m\n\u001B[0;32m-> 1345\u001B[0;31m             raise error.SolverError(\n\u001B[0m\u001B[1;32m   1346\u001B[0m                     \u001B[0;34m\"Solver '%s' failed. \"\u001B[0m \u001B[0;34m%\u001B[0m \u001B[0mchain\u001B[0m\u001B[0;34m.\u001B[0m\u001B[0msolver\u001B[0m\u001B[0;34m.\u001B[0m\u001B[0mname\u001B[0m\u001B[0;34m(\u001B[0m\u001B[0;34m)\u001B[0m \u001B[0;34m+\u001B[0m\u001B[0;34m\u001B[0m\u001B[0;34m\u001B[0m\u001B[0m\n\u001B[1;32m   1347\u001B[0m                     \u001B[0;34m\"Try another solver, or solve with verbose=True for more \"\u001B[0m\u001B[0;34m\u001B[0m\u001B[0;34m\u001B[0m\u001B[0m\n",
      "\u001B[0;31mSolverError\u001B[0m: Solver 'ECOS' failed. Try another solver, or solve with verbose=True for more information."
     ]
    }
   ],
   "source": [
    "opt_x = TEST._find_centroid(p_indices, init_centroid)\n",
    "#opt_w, b = TEST._solve_full_batch_lp(p_indices, init_centroid)\n",
    "#opt_dist = DiscreteDistrib(opt_w, opt_x)"
   ]
  },
  {
   "cell_type": "markdown",
   "metadata": {},
   "source": [
    "TO-DO<br>\n",
    "* x is weird\n",
    "* clustering function\n",
    "* clusterlabel automate\n",
    "* graph"
   ]
  }
 ],
 "metadata": {
  "colab": {
   "provenance": [],
   "toc_visible": true
  },
  "kernelspec": {
   "display_name": "Python 3 (ipykernel)",
   "language": "python",
   "name": "python3"
  },
  "language_info": {
   "codemirror_mode": {
    "name": "ipython",
    "version": 3
   },
   "file_extension": ".py",
   "mimetype": "text/x-python",
   "name": "python",
   "nbconvert_exporter": "python",
   "pygments_lexer": "ipython3",
   "version": "3.9.6"
  }
 },
 "nbformat": 4,
 "nbformat_minor": 1
}