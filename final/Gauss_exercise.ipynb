{
 "cells": [
  {
   "cell_type": "code",
   "execution_count": 1,
   "id": "908b17d2",
   "metadata": {},
   "outputs": [],
   "source": [
    "import numpy as np\n",
    "import cvxpy as cp\n",
    "from typing import List\n",
    "from scipy.spatial import distance_matrix\n",
    "import scipy.stats as ss\n",
    "import ot\n",
    "import matplotlib.pyplot as plt\n",
    "import pandas as pd\n",
    "from itertools import chain"
   ]
  },
  {
   "cell_type": "code",
   "execution_count": 2,
   "id": "6672b472",
   "metadata": {},
   "outputs": [],
   "source": [
    "from UTILS import DiscreteDistrib, discrete_wasserstein_distance\n",
    "#from utils import discrete_wasserstein_distance\n",
    "from BADMM import badmm_centroid_update\n",
    "from CLUSTERING import clustering"
   ]
  },
  {
   "cell_type": "markdown",
   "id": "b66e669e",
   "metadata": {},
   "source": [
    "# Gaussian example"
   ]
  },
  {
   "cell_type": "code",
   "execution_count": 4,
   "id": "14d101db",
   "metadata": {
    "scrolled": false
   },
   "outputs": [
    {
     "ename": "NameError",
     "evalue": "name 'UTILS' is not defined",
     "output_type": "error",
     "traceback": [
      "\u001b[0;31m---------------------------------------------------------------------------\u001b[0m",
      "\u001b[0;31mNameError\u001b[0m                                 Traceback (most recent call last)",
      "\u001b[0;32m/var/folders/7n/hmv4m81x237fw3cqn5wxdsy80000gn/T/ipykernel_41303/211373266.py\u001b[0m in \u001b[0;36m<module>\u001b[0;34m\u001b[0m\n\u001b[1;32m      1\u001b[0m \u001b[0mnsamples\u001b[0m \u001b[0;34m=\u001b[0m \u001b[0;36m10\u001b[0m\u001b[0;34m\u001b[0m\u001b[0;34m\u001b[0m\u001b[0m\n\u001b[1;32m      2\u001b[0m \u001b[0;34m\u001b[0m\u001b[0m\n\u001b[0;32m----> 3\u001b[0;31m \u001b[0mP1\u001b[0m \u001b[0;34m=\u001b[0m \u001b[0mUTILS\u001b[0m\u001b[0;34m.\u001b[0m\u001b[0mdisc_gauss_generator\u001b[0m\u001b[0;34m(\u001b[0m\u001b[0mnsamples\u001b[0m\u001b[0;34m,\u001b[0m \u001b[0;36m30\u001b[0m\u001b[0;34m,\u001b[0m \u001b[0;36m5\u001b[0m\u001b[0;34m,\u001b[0m \u001b[0mplotting\u001b[0m \u001b[0;34m=\u001b[0m \u001b[0;32mTrue\u001b[0m\u001b[0;34m)\u001b[0m\u001b[0;34m\u001b[0m\u001b[0;34m\u001b[0m\u001b[0m\n\u001b[0m\u001b[1;32m      4\u001b[0m \u001b[0mP2\u001b[0m \u001b[0;34m=\u001b[0m \u001b[0mUTILS\u001b[0m\u001b[0;34m.\u001b[0m\u001b[0mdisc_gauss_generator\u001b[0m\u001b[0;34m(\u001b[0m\u001b[0mnsamples\u001b[0m\u001b[0;34m,\u001b[0m \u001b[0;36m50\u001b[0m\u001b[0;34m,\u001b[0m \u001b[0;36m10\u001b[0m\u001b[0;34m)\u001b[0m\u001b[0;34m\u001b[0m\u001b[0;34m\u001b[0m\u001b[0m\n\u001b[1;32m      5\u001b[0m \u001b[0mP3\u001b[0m \u001b[0;34m=\u001b[0m \u001b[0mUTILS\u001b[0m\u001b[0;34m.\u001b[0m\u001b[0mdisc_gauss_generator\u001b[0m\u001b[0;34m(\u001b[0m\u001b[0mnsamples\u001b[0m\u001b[0;34m,\u001b[0m \u001b[0;36m1000\u001b[0m\u001b[0;34m,\u001b[0m \u001b[0;36m100\u001b[0m\u001b[0;34m)\u001b[0m\u001b[0;34m\u001b[0m\u001b[0;34m\u001b[0m\u001b[0m\n",
      "\u001b[0;31mNameError\u001b[0m: name 'UTILS' is not defined"
     ]
    }
   ],
   "source": [
    "nsamples = 10\n",
    "\n",
    "P1 = UTILS.disc_gauss_generator(nsamples, 30, 5, plotting = True)\n",
    "P2 = UTILS.disc_gauss_generator(nsamples, 50, 10)\n",
    "P3 = UTILS.disc_gauss_generator(nsamples, 1000, 100)\n",
    "P4 = UTILS.disc_gauss_generator(nsamples, 1200, 50)\n",
    "\n",
    "test_set = [P1, P2, P3, P4]"
   ]
  },
  {
   "cell_type": "code",
   "execution_count": null,
   "id": "fcd0636f",
   "metadata": {
    "scrolled": false
   },
   "outputs": [],
   "source": [
    "clustered = clustering(test_set, K=2, numItermax = 100)"
   ]
  },
  {
   "cell_type": "code",
   "execution_count": null,
   "id": "89f288e5",
   "metadata": {},
   "outputs": [],
   "source": [
    "clustered"
   ]
  }
 ],
 "metadata": {
  "kernelspec": {
   "display_name": "Python 3 (ipykernel)",
   "language": "python",
   "name": "python3"
  },
  "language_info": {
   "codemirror_mode": {
    "name": "ipython",
    "version": 3
   },
   "file_extension": ".py",
   "mimetype": "text/x-python",
   "name": "python",
   "nbconvert_exporter": "python",
   "pygments_lexer": "ipython3",
   "version": "3.9.6"
  }
 },
 "nbformat": 4,
 "nbformat_minor": 5
}
