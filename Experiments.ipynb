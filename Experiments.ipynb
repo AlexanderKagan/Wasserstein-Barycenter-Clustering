{
 "cells": [
  {
   "cell_type": "code",
   "execution_count": 1,
   "id": "908b17d2",
   "metadata": {},
   "outputs": [],
   "source": [
    "import numpy as np\n",
    "import cvxpy as cp\n",
    "from typing import List\n",
    "from scipy.spatial import distance_matrix\n",
    "import scipy.stats as ss\n",
    "import ot\n",
    "import matplotlib.pyplot as plt\n",
    "import pandas as pd"
   ]
  },
  {
   "cell_type": "code",
   "execution_count": 2,
   "id": "1efdc613",
   "metadata": {},
   "outputs": [],
   "source": [
    "import utils"
   ]
  },
  {
   "cell_type": "markdown",
   "id": "b66e669e",
   "metadata": {},
   "source": [
    "# Gaussian example"
   ]
  },
  {
   "cell_type": "code",
   "execution_count": null,
   "id": "14d101db",
   "metadata": {
    "scrolled": true
   },
   "outputs": [],
   "source": [
    "nsamples = 100\n",
    "\n",
    "P1 = utils.disc_gauss_generator(nsamples, 30, 3, plotting = True)\n",
    "P2 = utils.disc_gauss_generator(nsamples, 50, 3)\n",
    "P3 = utils.disc_gauss_generator(nsamples, 1000, 3)\n",
    "P4 = utils.disc_gauss_generator(nsamples, 1200, 3)"
   ]
  },
  {
   "cell_type": "markdown",
   "id": "13a0aab3",
   "metadata": {},
   "source": [
    "# MNIST"
   ]
  },
  {
   "cell_type": "code",
   "execution_count": 25,
   "id": "17bff194",
   "metadata": {},
   "outputs": [],
   "source": [
    "mnist = pd.read_csv('mnist_test.csv')\n",
    "mnist"
   ]
  },
  {
   "cell_type": "code",
   "execution_count": 108,
   "id": "2ef902de",
   "metadata": {},
   "outputs": [],
   "source": [
    "# list of pd.DataFrames(each is a digit)\n",
    "digit_list = []\n",
    "for i in range(10):\n",
    "    a = mnist[mnist[\"label\"] == i]\n",
    "    digit_list.append(a)\n",
    "\n",
    "\n",
    "# create X: pixel positions(x,y) -- this is same for all images\n",
    "x_temp = np.arange(28) + 1\n",
    "support = np.array(np.meshgrid(x_temp,x_temp)).T.reshape(-1,2)\n",
    "\n",
    "# Save into list (first index is digit, second is sample_number)\n",
    "digits = []\n",
    "for i in range(10):\n",
    "    \n",
    "    thisdigit = np.array(digit_list[i])\n",
    "    digits_temp = []\n",
    "    \n",
    "    for j in range(len(thisdigit)):\n",
    "        w_temp = np.array(thisdigit[j,1:])\n",
    "        w_temp = w_temp/w_temp.sum()\n",
    "        digits_temp.append(utils.DiscreteDistrib(w_temp, support))\n",
    "        \n",
    "    digits.append(digits_temp)"
   ]
  },
  {
   "cell_type": "code",
   "execution_count": 113,
   "id": "2852b0df",
   "metadata": {
    "scrolled": false
   },
   "outputs": [
    {
     "data": {
      "text/plain": [
       "<matplotlib.image.AxesImage at 0x31537ed00>"
      ]
     },
     "execution_count": 113,
     "metadata": {},
     "output_type": "execute_result"
    },
    {
     "data": {
      "image/png": "[encoded data removed]",
      "text/plain": [
       "<Figure size 432x288 with 1 Axes>"
      ]
     },
     "metadata": {
      "needs_background": "light"
     },
     "output_type": "display_data"
    }
   ],
   "source": [
    "tmp = digits[7][10].w.reshape((28,28))\n",
    "plt.imshow(tmp)"
   ]
  },
  {
   "cell_type": "code",
   "execution_count": 115,
   "id": "c2afe71c",
   "metadata": {},
   "outputs": [
    {
     "data": {
      "text/plain": [
       "[2, 2, 2, 2, 2, 2]"
      ]
     },
     "execution_count": 115,
     "metadata": {},
     "output_type": "execute_result"
    }
   ],
   "source": [
    "test_set = [digits[0][0], digits[0][3],\n",
    "           digits[3][0], digits[3][3],\n",
    "           digits[9][0], digits[9][3],]\n",
    "\n",
    "utils.clustering(test_set, K=3, numItermax = 100)"
   ]
  }
 ],
 "metadata": {
  "kernelspec": {
   "display_name": "Python 3 (ipykernel)",
   "language": "python",
   "name": "python3"
  },
  "language_info": {
   "codemirror_mode": {
    "name": "ipython",
    "version": 3
   },
   "file_extension": ".py",
   "mimetype": "text/x-python",
   "name": "python",
   "nbconvert_exporter": "python",
   "pygments_lexer": "ipython3",
   "version": "3.9.6"
  }
 },
 "nbformat": 4,
 "nbformat_minor": 5
}
